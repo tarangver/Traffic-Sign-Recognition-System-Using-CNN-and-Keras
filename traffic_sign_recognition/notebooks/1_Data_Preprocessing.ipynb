{
 "cells": [
  {
   "cell_type": "code",
   "execution_count": 7,
   "id": "b5b0325b",
   "metadata": {},
   "outputs": [
    {
     "name": "stdout",
     "output_type": "stream",
     "text": [
      "Loaded 39209 images.\n",
      "Training samples: 31367, Testing samples: 7842\n"
     ]
    }
   ],
   "source": [
    "# 1_Data_Preprocessing.ipynb\n",
    "\n",
    "import os\n",
    "import numpy as np\n",
    "import cv2\n",
    "from tensorflow.keras.utils import to_categorical\n",
    "from sklearn.model_selection import train_test_split\n",
    "\n",
    "# Set dataset path\n",
    "DATA_PATH = '../data/GTSRB/Train'\n",
    "IMG_HEIGHT = 30\n",
    "IMG_WIDTH = 30\n",
    "NUM_CLASSES = 43\n",
    "\n",
    "# Load images and labels\n",
    "images = []\n",
    "labels = []\n",
    "\n",
    "for class_id in range(NUM_CLASSES):\n",
    "    class_path = os.path.join(DATA_PATH, str(class_id))\n",
    "    \n",
    "    # Check if directory exists for the current class\n",
    "    if not os.path.isdir(class_path):\n",
    "        print(f\"Skipping class {class_id} - No such directory\")\n",
    "        continue\n",
    "    \n",
    "    for img_file in os.listdir(class_path):\n",
    "        img_path = os.path.join(class_path, img_file)\n",
    "        \n",
    "        # Try loading the image\n",
    "        try:\n",
    "            image = cv2.imread(img_path)\n",
    "            if image is None:\n",
    "                print(f\"Skipping image: {img_path} (corrupted or not found)\")\n",
    "                continue\n",
    "            image = cv2.resize(image, (IMG_WIDTH, IMG_HEIGHT))\n",
    "            images.append(image)\n",
    "            labels.append(class_id)\n",
    "        except Exception as e:\n",
    "            print(f\"Error loading image {img_path}: {e}\")\n",
    "\n",
    "# Convert to numpy arrays\n",
    "X = np.array(images)\n",
    "y = np.array(labels)\n",
    "\n",
    "print(f\"Loaded {len(X)} images.\")\n",
    "\n",
    "# Check if data is loaded correctly\n",
    "if len(X) == 0:\n",
    "    raise ValueError(\"No images were loaded. Check your dataset path.\")\n",
    "\n",
    "# Normalize and encode labels\n",
    "X = X / 255.0\n",
    "y = to_categorical(y, NUM_CLASSES)\n",
    "\n",
    "# Split dataset\n",
    "X_train, X_test, y_train, y_test = train_test_split(X, y, test_size=0.2, random_state=42)\n",
    "\n",
    "print(f\"Training samples: {len(X_train)}, Testing samples: {len(X_test)}\")\n"
   ]
  },
  {
   "cell_type": "code",
   "execution_count": 8,
   "id": "0e8a42da",
   "metadata": {},
   "outputs": [
    {
     "name": "stdout",
     "output_type": "stream",
     "text": [
      "All file saved\n"
     ]
    }
   ],
   "source": [
    "# Save arrays for faster reuse\n",
    "np.save('../data/X_train.npy', X_train)\n",
    "np.save('../data/X_test.npy', X_test)\n",
    "np.save('../data/y_train.npy', y_train)\n",
    "np.save('../data/y_test.npy', y_test)\n",
    "print(\"All file saved\")"
   ]
  }
 ],
 "metadata": {
  "kernelspec": {
   "display_name": "Python 3",
   "language": "python",
   "name": "python3"
  },
  "language_info": {
   "codemirror_mode": {
    "name": "ipython",
    "version": 3
   },
   "file_extension": ".py",
   "mimetype": "text/x-python",
   "name": "python",
   "nbconvert_exporter": "python",
   "pygments_lexer": "ipython3",
   "version": "3.11.9"
  }
 },
 "nbformat": 4,
 "nbformat_minor": 5
}
